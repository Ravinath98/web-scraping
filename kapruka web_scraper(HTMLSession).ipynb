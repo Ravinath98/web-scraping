{
 "cells": [
  {
   "cell_type": "code",
   "execution_count": 1,
   "id": "ed4d1caf",
   "metadata": {},
   "outputs": [],
   "source": [
    "from requests_html import HTMLSession\n",
    "import csv"
   ]
  },
  {
   "cell_type": "code",
   "execution_count": 2,
   "id": "be431ea3",
   "metadata": {},
   "outputs": [],
   "source": [
    "s=HTMLSession()"
   ]
  },
  {
   "cell_type": "code",
   "execution_count": 10,
   "id": "67937ab2",
   "metadata": {},
   "outputs": [],
   "source": [
    " def get_product_links(page):\n",
    "    url=f'https://www.kapruka.com/srilanka_online_shopping.jsp?d=shampoo&subcat=Grocery%20Items&p={page}'\n",
    "    r=s.get(url)\n",
    "    products=r.html.find('ul.category-list li')\n",
    "    links=[]\n",
    "    front_url='https://www.kapruka.com'\n",
    "    for item in products:\n",
    "        links.append(front_url+item.find('a',first=True).attrs['href'])\n",
    "    return links\n",
    "        "
   ]
  },
  {
   "cell_type": "code",
   "execution_count": 12,
   "id": "b7e8b7f1",
   "metadata": {},
   "outputs": [],
   "source": [
    "def parse_product(url):\n",
    "    r=s.get(url)\n",
    "    title=r.html.find('div.product-information',first=True).text.partition('\\n')[0].strip()\n",
    "    price=r.html.find('div.price',first=True).text.partition('\\n')[0].strip()\n",
    "    img_element=r.html.find('div.view-product')[0]\n",
    "    img = img_element.xpath('//img')[0]\n",
    "    img_header_url='https://www.kapruka.com'\n",
    "    img_url=img_header_url+img.find('img',first=True).attrs['src']\n",
    "    try:\n",
    "        brand=r.html.find('a.ex',first=True).text.partition('\\n')[0].strip()\n",
    "    except AttributeError as err:\n",
    "        brand='None'\n",
    "\n",
    "        \n",
    "    product={\n",
    "        'title':title,\n",
    "        'price':price,\n",
    "        'brand':brand,\n",
    "        'img_url':img_url,\n",
    "    }\n",
    "    return product"
   ]
  },
  {
   "cell_type": "code",
   "execution_count": 14,
   "id": "8f2d6c9e",
   "metadata": {},
   "outputs": [],
   "source": [
    "def save_csv(results):\n",
    "    keys=results[0].keys() #headers\n",
    "    with open('products.csv','w') as f:\n",
    "        dict_writer=csv.DictWriter(f,keys)\n",
    "        dict_writer.writeheader()\n",
    "        dict_writer.writerows(results)\n",
    "    "
   ]
  },
  {
   "cell_type": "code",
   "execution_count": 15,
   "id": "1ce68995",
   "metadata": {},
   "outputs": [],
   "source": [
    "def main():\n",
    "    results=[]\n",
    "    for x in range(1,3):\n",
    "        print('Getting the page',x,'data')\n",
    "        urls=get_product_links(x)\n",
    "        for url in urls:\n",
    "            results.append(parse_product(url))\n",
    "        save_csv(results)"
   ]
  },
  {
   "cell_type": "code",
   "execution_count": 16,
   "id": "825c61da",
   "metadata": {},
   "outputs": [
    {
     "name": "stdout",
     "output_type": "stream",
     "text": [
      "Getting the page 1 data\n",
      "Getting the page 2 data\n"
     ]
    }
   ],
   "source": [
    "if __name__=='__main__':\n",
    "    main()"
   ]
  }
 ],
 "metadata": {
  "kernelspec": {
   "display_name": "Python 3 (ipykernel)",
   "language": "python",
   "name": "python3"
  },
  "language_info": {
   "codemirror_mode": {
    "name": "ipython",
    "version": 3
   },
   "file_extension": ".py",
   "mimetype": "text/x-python",
   "name": "python",
   "nbconvert_exporter": "python",
   "pygments_lexer": "ipython3",
   "version": "3.9.12"
  }
 },
 "nbformat": 4,
 "nbformat_minor": 5
}
